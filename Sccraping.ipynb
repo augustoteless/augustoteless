{
 "cells": [
  {
   "cell_type": "code",
   "execution_count": 18,
   "metadata": {},
   "outputs": [],
   "source": [
    "import pandas as pd\n",
    "\n",
    "## Séries históricas disponíveis em\n",
    "## http://www.b3.com.br/pt_br/market-data-e-indices/servicos-de-dados/market-data/historico/mercado-a-vista/series-historicas/\n",
    "arquivo_bovespa = 'COTAHIST_A2023.TXT'\n",
    "\n",
    "\n",
    "## Estrutura do arquivo disponível em \n",
    "## http://www.b3.com.br/data/files/33/67/B9/50/D84057102C784E47AC094EA8/SeriesHistoricas_Layout.pdf\n",
    "\n",
    "tamanho_campos=[2,8,2,12,3,12,10,3,4,13,13,13,13,13,13,13,5,18,18,13,1,8,7,13,12,3]\n",
    "\n",
    "dados_acoes=pd.read_fwf(arquivo_bovespa, widths=tamanho_campos, header=0)"
   ]
  },
  {
   "cell_type": "code",
   "execution_count": 19,
   "metadata": {},
   "outputs": [],
   "source": [
    "## Nomear as colunas\n",
    "\n",
    "dados_acoes.columns = [\n",
    "\"tipo_registro\",\n",
    "\"data_pregao\",\n",
    "\"cod_bdi\",\n",
    "\"cod_negociacao\",\n",
    "\"tipo_mercado\",\n",
    "\"noma_empresa\",\n",
    "\"especificacao_papel\",\n",
    "\"prazo_dias_merc_termo\",\n",
    "\"moeda_referencia\",\n",
    "\"preco_abertura\",\n",
    "\"preco_maximo\",\n",
    "\"preco_minimo\",\n",
    "\"preco_medio\",\n",
    "\"preco_ultimo_negocio\",\n",
    "\"preco_melhor_oferta_compra\",\n",
    "\"preco_melhor_oferta_venda\",\n",
    "\"numero_negocios\",\n",
    "\"quantidade_papeis_negociados\",\n",
    "\"volume_total_negociado\",\n",
    "\"preco_exercicio\",\n",
    "\"ìndicador_correcao_precos\",\n",
    "\"data_vencimento\" ,\n",
    "\"fator_cotacao\",\n",
    "\"preco_exercicio_pontos\",\n",
    "\"codigo_isin\",\n",
    "\"num_distribuicao_papel\"]\n",
    "\n",
    "# Eliminar a última linha\n",
    "linha=len(dados_acoes[\"data_pregao\"])\n",
    "dados_acoes=dados_acoes.drop(linha-1)\n",
    "\n",
    "# Ajustar valores com virgula (dividir os valores dessas colunas por 100)\n",
    "listaVirgula=[\n",
    "\"preco_abertura\",\n",
    "\"preco_maximo\",\n",
    "\"preco_minimo\",\n",
    "\"preco_medio\",\n",
    "\"preco_ultimo_negocio\",\n",
    "\"preco_melhor_oferta_compra\",\n",
    "\"preco_melhor_oferta_venda\",\n",
    "\"volume_total_negociado\",\n",
    "\"preco_exercicio\",\n",
    "\"preco_exercicio_pontos\"\n",
    "]\n",
    "\n",
    "for coluna in listaVirgula:\n",
    "    dados_acoes[coluna]=[i/100. for i in dados_acoes[coluna]]"
   ]
  },
  {
   "cell_type": "code",
   "execution_count": 24,
   "metadata": {},
   "outputs": [
    {
     "data": {
      "text/plain": [
       "0         15.03\n",
       "1          0.30\n",
       "2          1.45\n",
       "3          2.71\n",
       "4          8.50\n",
       "          ...  \n",
       "251785     0.86\n",
       "251786     0.99\n",
       "251787     1.12\n",
       "251788     0.03\n",
       "251789     0.05\n",
       "Name: preco_ultimo_negocio, Length: 251790, dtype: float64"
      ]
     },
     "execution_count": 24,
     "metadata": {},
     "output_type": "execute_result"
    }
   ],
   "source": [
    "dados_acoes['preco_ultimo_negocio']"
   ]
  },
  {
   "cell_type": "code",
   "execution_count": null,
   "metadata": {},
   "outputs": [],
   "source": [
    "lista = ['INBR32','PETR4','','','','','','']\n",
    "\n",
    "\n",
    "dados_acoes.loc[dados_acoes['cod_negociacao'].isin(lista)]\n",
    "\n"
   ]
  },
  {
   "cell_type": "code",
   "execution_count": null,
   "metadata": {},
   "outputs": [],
   "source": [
    "## !pip install yfinance\n",
    "! pip install investpy"
   ]
  },
  {
   "cell_type": "code",
   "execution_count": null,
   "metadata": {},
   "outputs": [],
   "source": [
    "### bilioteca inv para buscar todas as ações do br\n",
    "\n",
    "\n",
    "import yfinance as yf\n",
    "import pandas as pd\n",
    "import investpy as inv\n",
    "\n",
    "br = inv.stocks.get_stocks(country='brazil')\n",
    "br['symbol']\n",
    "\n",
    "\n",
    "carteira = []\n",
    "\n",
    "for a in br['symbol']:\n",
    "    if len(a) <=5:\n",
    "        carteira.append(a+'.SA')\n",
    "\n",
    "carteira\n"
   ]
  },
  {
   "cell_type": "code",
   "execution_count": null,
   "metadata": {},
   "outputs": [],
   "source": [
    "import pandas as pd\n",
    "from pandas_market_calendars import get_calendar\n",
    "\n",
    "# Create a calendar object for the B3 exchange\n",
    "b3 = get_calendar('BMF')\n",
    "\n",
    "# Set the date range to the last 2 business days\n",
    "end_date = pd.Timestamp('today', tz='UTC')\n",
    "start_date = end_date - pd.DateOffset(days=2)\n",
    "\n",
    "# Get the business days for the date range\n",
    "business_days = b3.schedule(start_date=start_date, end_date=end_date)\n",
    "\n",
    "# The last business day is the latest date in the list\n",
    "last_business_day = business_days[-1].date()\n",
    "\n",
    "# The penultimate business day is the second latest date in the list\n",
    "penultimate_business_day = business_days[-2].date()\n",
    "        \n",
    "print(\"Last business day: \", last_business_day)\n",
    "print(\"Penultimate business day: \", penultimate_business_day)"
   ]
  },
  {
   "cell_type": "code",
   "execution_count": 17,
   "metadata": {},
   "outputs": [
    {
     "name": "stdout",
     "output_type": "stream",
     "text": [
      "230215\n"
     ]
    },
    {
     "data": {
      "text/plain": [
       "<Response [404]>"
      ]
     },
     "execution_count": 17,
     "metadata": {},
     "output_type": "execute_result"
    }
   ],
   "source": [
    "import pandas as pd\n",
    "import pandas_market_calendars as mcal\n",
    "import requests\n",
    "from datetime import date\n",
    "\n",
    "hoje = date.today()\n",
    "# Cria o calendário da B3\n",
    "b3_calendar = mcal.get_calendar('B3')\n",
    "\n",
    "# Obtém o último e o penúltimo dia útil\n",
    "days = b3_calendar.valid_days(start_date=\"2021-01-01\", end_date=hoje)\n",
    "ult_dia = str(days[-1].date().year % 100).zfill(2) + str(days[-1].date().month).zfill(2) + str(days[-1].date().day).zfill(2)\n",
    "penult_dia = str(days[-2].date().year % 100).zfill(2) + str(days[-2].date().month).zfill(2) + str(days[-2].date().day).zfill(2)\n",
    "print(ult_dia)\n",
    "url = requests.get(f'https://www.anbima.com.br/informacoes/merc-sec/arqs/ms{ult_dia}.txt')\n",
    "url"
   ]
  },
  {
   "cell_type": "markdown",
   "metadata": {},
   "source": [
    "**Títulos Públicos**"
   ]
  },
  {
   "cell_type": "code",
   "execution_count": null,
   "metadata": {},
   "outputs": [],
   "source": [
    "def busca_titulos_tesouro_direto():\n",
    "  url = 'https://www.tesourotransparente.gov.br/ckan/dataset/df56aa42-484a-4a59-8184-7676580c81e3/resource/796d2059-14e9-44e3-80c9-2d9e30b405c1/download/PrecoTaxaTesouroDireto.csv'\n",
    "  df  = pd.read_csv(url, sep=';', decimal=',')\n",
    "  df['Data Vencimento'] = pd.to_datetime(df['Data Vencimento'], dayfirst=True)\n",
    "  df['Data Base']       = pd.to_datetime(df['Data Base'], dayfirst=True)\n",
    "  multi_indice = pd.MultiIndex.from_frame(df.iloc[:, :3])\n",
    "  df = df.set_index(multi_indice).iloc[: , 3:]  \n",
    "  return df\n",
    "tesouro = busca_titulos_tesouro_direto()\n",
    "tesouro.sort_index(inplace=True)\n",
    "selic2025 = tesouro.loc[('Tesouro IPCA+', '2055-05-15')]\n",
    "selic2025"
   ]
  },
  {
   "cell_type": "code",
   "execution_count": 18,
   "metadata": {},
   "outputs": [
    {
     "data": {
      "text/html": [
       "<div>\n",
       "<style scoped>\n",
       "    .dataframe tbody tr th:only-of-type {\n",
       "        vertical-align: middle;\n",
       "    }\n",
       "\n",
       "    .dataframe tbody tr th {\n",
       "        vertical-align: top;\n",
       "    }\n",
       "\n",
       "    .dataframe thead th {\n",
       "        text-align: right;\n",
       "    }\n",
       "</style>\n",
       "<table border=\"1\" class=\"dataframe\">\n",
       "  <thead>\n",
       "    <tr style=\"text-align: right;\">\n",
       "      <th></th>\n",
       "      <th></th>\n",
       "      <th></th>\n",
       "      <th>Quantidade</th>\n",
       "      <th>Valor</th>\n",
       "    </tr>\n",
       "    <tr>\n",
       "      <th>Tipo Titulo</th>\n",
       "      <th>Vencimento do Titulo</th>\n",
       "      <th>Data Resgate</th>\n",
       "      <th></th>\n",
       "      <th></th>\n",
       "    </tr>\n",
       "  </thead>\n",
       "  <tbody>\n",
       "    <tr>\n",
       "      <th rowspan=\"5\" valign=\"top\">Tesouro IGPM+ com Juros Semestrais</th>\n",
       "      <th rowspan=\"5\" valign=\"top\">2005-07-01</th>\n",
       "      <th>2005-01-13</th>\n",
       "      <td>2.00</td>\n",
       "      <td>3545.04</td>\n",
       "    </tr>\n",
       "    <tr>\n",
       "      <th>2005-02-03</th>\n",
       "      <td>1.00</td>\n",
       "      <td>1783.97</td>\n",
       "    </tr>\n",
       "    <tr>\n",
       "      <th>2005-03-03</th>\n",
       "      <td>2.00</td>\n",
       "      <td>3595.96</td>\n",
       "    </tr>\n",
       "    <tr>\n",
       "      <th>2005-03-10</th>\n",
       "      <td>1.00</td>\n",
       "      <td>1803.81</td>\n",
       "    </tr>\n",
       "    <tr>\n",
       "      <th>2005-03-24</th>\n",
       "      <td>0.20</td>\n",
       "      <td>364.14</td>\n",
       "    </tr>\n",
       "    <tr>\n",
       "      <th>...</th>\n",
       "      <th>...</th>\n",
       "      <th>...</th>\n",
       "      <td>...</td>\n",
       "      <td>...</td>\n",
       "    </tr>\n",
       "    <tr>\n",
       "      <th rowspan=\"5\" valign=\"top\">Tesouro Selic</th>\n",
       "      <th rowspan=\"5\" valign=\"top\">2029-03-01</th>\n",
       "      <th>2023-02-02</th>\n",
       "      <td>231.75</td>\n",
       "      <td>2927759.94</td>\n",
       "    </tr>\n",
       "    <tr>\n",
       "      <th>2023-02-03</th>\n",
       "      <td>317.07</td>\n",
       "      <td>4007829.28</td>\n",
       "    </tr>\n",
       "    <tr>\n",
       "      <th>2023-02-06</th>\n",
       "      <td>354.26</td>\n",
       "      <td>4480184.24</td>\n",
       "    </tr>\n",
       "    <tr>\n",
       "      <th>2023-02-07</th>\n",
       "      <td>238.33</td>\n",
       "      <td>3015595.70</td>\n",
       "    </tr>\n",
       "    <tr>\n",
       "      <th>2023-02-08</th>\n",
       "      <td>363.60</td>\n",
       "      <td>4603022.14</td>\n",
       "    </tr>\n",
       "  </tbody>\n",
       "</table>\n",
       "<p>55894 rows × 2 columns</p>\n",
       "</div>"
      ],
      "text/plain": [
       "                                                                      Quantidade  \\\n",
       "Tipo Titulo                        Vencimento do Titulo Data Resgate               \n",
       "Tesouro IGPM+ com Juros Semestrais 2005-07-01           2005-01-13          2.00   \n",
       "                                                        2005-02-03          1.00   \n",
       "                                                        2005-03-03          2.00   \n",
       "                                                        2005-03-10          1.00   \n",
       "                                                        2005-03-24          0.20   \n",
       "...                                                                          ...   \n",
       "Tesouro Selic                      2029-03-01           2023-02-02        231.75   \n",
       "                                                        2023-02-03        317.07   \n",
       "                                                        2023-02-06        354.26   \n",
       "                                                        2023-02-07        238.33   \n",
       "                                                        2023-02-08        363.60   \n",
       "\n",
       "                                                                           Valor  \n",
       "Tipo Titulo                        Vencimento do Titulo Data Resgate              \n",
       "Tesouro IGPM+ com Juros Semestrais 2005-07-01           2005-01-13       3545.04  \n",
       "                                                        2005-02-03       1783.97  \n",
       "                                                        2005-03-03       3595.96  \n",
       "                                                        2005-03-10       1803.81  \n",
       "                                                        2005-03-24        364.14  \n",
       "...                                                                          ...  \n",
       "Tesouro Selic                      2029-03-01           2023-02-02    2927759.94  \n",
       "                                                        2023-02-03    4007829.28  \n",
       "                                                        2023-02-06    4480184.24  \n",
       "                                                        2023-02-07    3015595.70  \n",
       "                                                        2023-02-08    4603022.14  \n",
       "\n",
       "[55894 rows x 2 columns]"
      ]
     },
     "execution_count": 18,
     "metadata": {},
     "output_type": "execute_result"
    }
   ],
   "source": [
    "def busca_recompras_tesouro():\n",
    "  url = \"https://www.tesourotransparente.gov.br/ckan/dataset/f30db6e4-6123-416c-b094-be8dfc823601/resource/30c2b3f5-6edd-499a-8514-062bfda0f61a/download/RecomprasTesouroDireto.csv\"\n",
    "  df  = pd.read_csv(url, sep=';', decimal=',')\n",
    "  df['Vencimento do Titulo'] = pd.to_datetime(df['Vencimento do Titulo'], dayfirst=True)\n",
    "  df['Data Resgate']       = pd.to_datetime(df['Data Resgate'], dayfirst=True)\n",
    "  multi_indice = pd.MultiIndex.from_frame(df.iloc[:, :3])\n",
    "  df = df.set_index(multi_indice).iloc[: , 3:]  \n",
    "  return df\n",
    "\n",
    "tesouro1 = busca_recompras_tesouro()\n",
    "tesouro1.sort_index(inplace=True)\n",
    "tesouro1"
   ]
  }
 ],
 "metadata": {
  "kernelspec": {
   "display_name": "Python 3",
   "language": "python",
   "name": "python3"
  },
  "language_info": {
   "codemirror_mode": {
    "name": "ipython",
    "version": 3
   },
   "file_extension": ".py",
   "mimetype": "text/x-python",
   "name": "python",
   "nbconvert_exporter": "python",
   "pygments_lexer": "ipython3",
   "version": "3.10.10"
  },
  "orig_nbformat": 4,
  "vscode": {
   "interpreter": {
    "hash": "4b1d2b2361f30268388eeb3ce33b192da8137c2ed9b5cf331d24b8741bfb6cd0"
   }
  }
 },
 "nbformat": 4,
 "nbformat_minor": 2
}
