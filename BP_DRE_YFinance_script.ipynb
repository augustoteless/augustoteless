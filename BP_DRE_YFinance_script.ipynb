{
  "nbformat": 4,
  "nbformat_minor": 0,
  "metadata": {
    "colab": {
      "provenance": [],
      "authorship_tag": "ABX9TyMyjHCtQgcNO4ENzplbVg5v",
      "include_colab_link": true
    },
    "kernelspec": {
      "name": "python3",
      "display_name": "Python 3"
    },
    "language_info": {
      "name": "python"
    }
  },
  "cells": [
    {
      "cell_type": "markdown",
      "metadata": {
        "id": "view-in-github",
        "colab_type": "text"
      },
      "source": [
        "<a href=\"https://colab.research.google.com/github/augustoteless/augustoteless/blob/main/BP_DRE_YFinance_script.ipynb\" target=\"_parent\"><img src=\"https://colab.research.google.com/assets/colab-badge.svg\" alt=\"Open In Colab\"/></a>"
      ]
    },
    {
      "cell_type": "code",
      "source": [
        "pip install yfinance"
      ],
      "metadata": {
        "id": "-HetSwxmBfvY"
      },
      "execution_count": null,
      "outputs": []
    },
    {
      "cell_type": "code",
      "execution_count": 26,
      "metadata": {
        "id": "b2quaP4Dte8y"
      },
      "outputs": [],
      "source": [
        "import yfinance as yf\n",
        "import pandas as pd"
      ]
    },
    {
      "cell_type": "code",
      "source": [
        "tickers = ['INTR', 'XP', 'BPAC11.SA', 'BCSA34.SA', 'BBAS3.SA', 'BBDC4.SA']\n",
        "\n",
        "\n",
        "dfs = []\n",
        "for ticker in tickers:\n",
        "  stock_info = yf.Ticker(ticker)\n",
        "  income_statement = stock_info.financials\n",
        "  balance_sheet = stock_info.balance_sheet\n",
        "  income_statement['Empresa'] = ticker\n",
        "  balance_sheet['Empresa'] = ticker\n",
        "  dfs.append(income_statement)\n",
        "  dfs.append(balance_sheet)\n",
        "\n",
        "result = pd.concat(dfs)\n",
        "print(result)\n",
        "  "
      ],
      "metadata": {
        "id": "LxzvW4ts7xZI"
      },
      "execution_count": null,
      "outputs": []
    },
    {
      "cell_type": "code",
      "source": [
        "from google.colab import files\n",
        "result.to_excel('dados.xlsx')\n",
        "files.download('dados.xlsx')"
      ],
      "metadata": {
        "id": "kJgEaOkIA9IJ"
      },
      "execution_count": null,
      "outputs": []
    },
    {
      "cell_type": "code",
      "source": [
        "XP = yf.Ticker(\"XP\").balancesheet\n",
        "XP1 = yf.Ticker(\"XP\").income_stmt\n",
        "res = pd.concat([XP, XP1])\n",
        "print(res)"
      ],
      "metadata": {
        "id": "-CE1m0bA-vo0"
      },
      "execution_count": null,
      "outputs": []
    }
  ]
}